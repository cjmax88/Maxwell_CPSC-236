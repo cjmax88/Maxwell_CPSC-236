{
 "cells": [
  {
   "cell_type": "markdown",
   "metadata": {},
   "source": [
    "# Strings\n",
    "\n",
    "To submit this assignment in D2l, post the link to your notebook file on your GitHub account."
   ]
  },
  {
   "cell_type": "markdown",
   "metadata": {},
   "source": [
    "## 10.1 Email Creator\n",
    "Create a program that reads a file and creates a series of emails.\n",
    "\n",
    "### Console:\n",
    "```powershell\n",
    "Email Creator\n",
    "\n",
    "================================================================\n",
    "To: jbutler@gmail.com \n",
    "From: noreply@deals.com \n",
    "Subject: Deals!\n",
    "\n",
    "Hi James,\n",
    "\n",
    "We've got some great deals for you. Check our website!\n",
    "================================================================\n",
    "To:\tjosephine_darakjy@darakjy.org \n",
    "From:\tnoreply@deals.com\n",
    "Subject: Deals! \n",
    "\n",
    "Hi Josephine,\n",
    "\n",
    "We've got some great deals for you. Check our website!\n",
    "================================================================\n",
    "To:\tart@venere.org\n",
    "From:\tnoreply@deals.com \n",
    "Subject: Deals!\n",
    "\n",
    "Hi Art,\n",
    "\n",
    "We've got some great deals for you. Check our website!\n",
    "```\n",
    "\n",
    "### Specifications:\n",
    "- Use `email.csv` file:\n",
    "- Use `email_template.txt` file:\n",
    "- When the program starts, it should read the email addresses and first names from the file, merge them into the mass email template, and display the results on the console.\n",
    "- All email addresses should be converted to **lowercase**.\n",
    "- All first names should be converted to **title case**.\n",
    "- If you add names to the list of email addresses, the program should create more emails.\n",
    "- If you modify the template, the program should change the content of the email that’s created. \n",
    "\n"
   ]
  },
  {
   "cell_type": "code",
   "execution_count": 8,
   "metadata": {},
   "outputs": [
    {
     "name": "stdout",
     "output_type": "stream",
     "text": [
      "Email Creator\n",
      "\n",
      "================================================================\n",
      "To:      james\n",
      "From:    noreply@deals.com\n",
      "Subject: Deals!\n",
      "\n",
      "Hi Darakjy,\n",
      "\n",
      "We've got some great deals for you. Check our website!\n",
      "================================================================\n",
      "To:      josephine\n",
      "From:    noreply@deals.com\n",
      "Subject: Deals!\n",
      "\n",
      "Hi Darakjy,\n",
      "\n",
      "We've got some great deals for you. Check our website!\n",
      "================================================================\n",
      "To:      art\n",
      "From:    noreply@deals.com\n",
      "Subject: Deals!\n",
      "\n",
      "Hi Venere,\n",
      "\n",
      "We've got some great deals for you. Check our website!\n",
      "================================================================\n"
     ]
    }
   ],
   "source": [
    "import csv\n",
    "\n",
    "def read_csv_file(filename):\n",
    "    with open(filename,'r') as file:\n",
    "        reader = csv.reader(file) \n",
    "        return [(row[0].lower(), row[1].title()) for row in reader]\n",
    "\n",
    "def read_template(filename):\n",
    "    with open(filename, mode='r', encoding='utf-8') as file:\n",
    "        return file.read()\n",
    "\n",
    "def create_emails(users, template):\n",
    "    emails = []\n",
    "    for email, name in users:\n",
    "        email_content = template.replace('{email}', email).replace('{first_name}', name)\n",
    "        emails.append(email_content)\n",
    "    return emails\n",
    "\n",
    "def display_emails(emails):\n",
    "    print(\"Email Creator\\n\")\n",
    "    print(\"=\" * 64)\n",
    "    for email in emails:\n",
    "        print(email)\n",
    "        print(\"=\" * 64)\n",
    "\n",
    "def main():\n",
    "    users = read_csv_file('email.csv')\n",
    "    template = read_template('email_template.txt')\n",
    "    emails = create_emails(users, template)\n",
    "    display_emails(emails)\n",
    "\n",
    "if __name__ == '__main__':\n",
    "    main()\n"
   ]
  },
  {
   "cell_type": "markdown",
   "metadata": {},
   "source": [
    "## 10.2 Pig Latin Translator\n",
    "\n",
    "Create a program that translates English to Pig Latin.\n",
    "\n",
    "### Console:\n",
    "```powershell\n",
    "Pig Latin Translator\n",
    "\n",
    "Enter text: Tis but a scratch. \n",
    "English:\ttis but a scratch\n",
    "Pig Latin:\tistay utbay away atchscray \n",
    "\n",
    "Continue? (y/n): y\n",
    "\n",
    "Enter text: We are the knights who say nee!\n",
    "English:\twe are the knights who say nee\n",
    "Pig Latin:\teway areway ethay ightsknay owhay aysay eenay \n",
    "\n",
    "Continue? (y/n): n\n",
    "\n",
    "Bye!\n",
    "```\n",
    "\n",
    "### Specifications:\n",
    "- Convert the English to lowercase before translating.\n",
    "- Remove the following punctuation characters before translating `! , ; : - . ?`\n",
    "- Assume that words are separated from each other by a single space.\n",
    "- If the word starts with a vowel, just add *way* to the end of the word.\n",
    "- If the word starts with a consonant, move all of the consonants that appear before the first vowel to the end of the word, then add *ay* to the end of the word.\n",
    "\n",
    "### Note:\n",
    "- There are no official rules for Pig Latin. Most people agree on how words that begin with consonants are translated, but there are many different ways to handle words that begin with vowels.\n"
   ]
  },
  {
   "cell_type": "code",
   "execution_count": 9,
   "metadata": {},
   "outputs": [
    {
     "name": "stdout",
     "output_type": "stream",
     "text": [
      "Pig Latin Translator\n",
      "\n"
     ]
    },
    {
     "name": "stdin",
     "output_type": "stream",
     "text": [
      "Enter text:  Tis but a scratch\n"
     ]
    },
    {
     "name": "stdout",
     "output_type": "stream",
     "text": [
      "English:\t Tis but a scratch\n",
      "Pig Latin:\t istay utbay away atchscray\n"
     ]
    },
    {
     "name": "stdin",
     "output_type": "stream",
     "text": [
      "Continue? (y/n):  y\n",
      "Enter text:  We are the knights who say nee!\n"
     ]
    },
    {
     "name": "stdout",
     "output_type": "stream",
     "text": [
      "English:\t We are the knights who say nee!\n",
      "Pig Latin:\t eway areway ethay ightsknay owhay aysay eenay\n"
     ]
    },
    {
     "name": "stdin",
     "output_type": "stream",
     "text": [
      "Continue? (y/n):  n\n"
     ]
    },
    {
     "name": "stdout",
     "output_type": "stream",
     "text": [
      "Bye!\n"
     ]
    }
   ],
   "source": [
    "import re\n",
    "\n",
    "def translate_to_pig_latin(text):\n",
    "    vowels = 'aeiou'\n",
    "    words = text.lower().strip().split()\n",
    "    translated_words = []\n",
    "\n",
    "    for word in words:\n",
    "        word = re.sub(r'[!;,:\\-\\.?]', '', word)\n",
    "        if word[0] in vowels:\n",
    "            pig_latin_word = word + 'way'\n",
    "        else:\n",
    "            match = re.search(f\"[{vowels}]\", word)\n",
    "            if match:\n",
    "                first_vowel_index = match.start()\n",
    "                pig_latin_word = word[first_vowel_index:] + word[:first_vowel_index] + 'ay'\n",
    "            else:\n",
    "                pig_latin_word = word + 'ay'\n",
    "        translated_words.append(pig_latin_word)\n",
    "    \n",
    "    return ' '.join(translated_words)\n",
    "\n",
    "def main():\n",
    "    print(\"Pig Latin Translator\\n\")\n",
    "    \n",
    "    while True:\n",
    "        text = input(\"Enter text: \")\n",
    "        print(\"English:\\t\", text)\n",
    "        \n",
    "        pig_latin = translate_to_pig_latin(text)\n",
    "        print(\"Pig Latin:\\t\", pig_latin)\n",
    "        \n",
    "        continue_choice = input(\"Continue? (y/n): \")\n",
    "        if continue_choice.lower() != 'y':\n",
    "            print(\"Bye!\")\n",
    "            break\n",
    "\n",
    "if __name__ == '__main__':\n",
    "    main()\n"
   ]
  },
  {
   "cell_type": "code",
   "execution_count": null,
   "metadata": {},
   "outputs": [],
   "source": []
  }
 ],
 "metadata": {
  "kernelspec": {
   "display_name": "Python 3 (ipykernel)",
   "language": "python",
   "name": "python3"
  },
  "language_info": {
   "codemirror_mode": {
    "name": "ipython",
    "version": 3
   },
   "file_extension": ".py",
   "mimetype": "text/x-python",
   "name": "python",
   "nbconvert_exporter": "python",
   "pygments_lexer": "ipython3",
   "version": "3.11.7"
  }
 },
 "nbformat": 4,
 "nbformat_minor": 4
}
